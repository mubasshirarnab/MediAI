{
  "nbformat": 4,
  "nbformat_minor": 0,
  "metadata": {
    "colab": {
      "provenance": [],
      "toc_visible": true
    },
    "kernelspec": {
      "name": "python3",
      "display_name": "Python 3"
    },
    "language_info": {
      "name": "python"
    }
  },
  "cells": [
    {
      "cell_type": "code",
      "execution_count": null,
      "metadata": {
        "colab": {
          "base_uri": "https://localhost:8080/"
        },
        "id": "PVHlg8bsKlui",
        "outputId": "c3f9d5d2-c407-4c01-ef4f-1a66e7d031c2"
      },
      "outputs": [
        {
          "output_type": "stream",
          "name": "stdout",
          "text": [
            "🔍 Accuracy: 0.8470\n",
            "\n",
            "🧾 Classification Report:\n",
            "               precision    recall  f1-score   support\n",
            "\n",
            "           0       0.85      0.99      0.92       620\n",
            "           1       0.50      0.07      0.12       112\n",
            "\n",
            "    accuracy                           0.85       732\n",
            "   macro avg       0.68      0.53      0.52       732\n",
            "weighted avg       0.80      0.85      0.80       732\n",
            "\n",
            "\n",
            "📉 Confusion Matrix:\n",
            " [[612   8]\n",
            " [104   8]]\n"
          ]
        }
      ],
      "source": [
        "# Step 1: Import libraries\n",
        "import pandas as pd\n",
        "import numpy as np\n",
        "from sklearn.model_selection import train_test_split\n",
        "from sklearn.preprocessing import StandardScaler\n",
        "from sklearn.ensemble import RandomForestClassifier\n",
        "from sklearn.metrics import classification_report, confusion_matrix, accuracy_score\n",
        "\n",
        "# Step 2: Load the dataset\n",
        "df = pd.read_csv('/content/framingham.csv')\n",
        "\n",
        "# Step 3: Drop rows with missing values\n",
        "df = df.dropna()\n",
        "\n",
        "# 🚫 Drop 'education' column as requested\n",
        "df = df.drop(columns=['education'])\n",
        "\n",
        "# Step 4: Feature and label separation\n",
        "X = df.drop(['TenYearCHD'], axis=1)\n",
        "y = df['TenYearCHD']\n",
        "\n",
        "# Step 5: Handle categorical variables\n",
        "X = pd.get_dummies(X, drop_first=True)  # e.g., 'male' becomes binary\n",
        "\n",
        "# Step 6: Train-test split (stratified)\n",
        "X_train, X_test, y_train, y_test = train_test_split(\n",
        "    X, y, test_size=0.2, stratify=y, random_state=42)\n",
        "\n",
        "# Step 7: Feature scaling\n",
        "scaler = StandardScaler()\n",
        "X_train_scaled = scaler.fit_transform(X_train)\n",
        "X_test_scaled = scaler.transform(X_test)\n",
        "\n",
        "# Step 8: Train the model (Random Forest)\n",
        "model = RandomForestClassifier(n_estimators=200, random_state=42)\n",
        "model.fit(X_train_scaled, y_train)\n",
        "\n",
        "# Step 9: Evaluate the model\n",
        "y_pred = model.predict(X_test_scaled)\n",
        "acc = accuracy_score(y_test, y_pred)\n",
        "\n",
        "print(f\"🔍 Accuracy: {acc:.4f}\")\n",
        "print(\"\\n🧾 Classification Report:\\n\", classification_report(y_test, y_pred))\n",
        "print(\"\\n📉 Confusion Matrix:\\n\", confusion_matrix(y_test, y_pred))\n"
      ]
    }
  ]
}